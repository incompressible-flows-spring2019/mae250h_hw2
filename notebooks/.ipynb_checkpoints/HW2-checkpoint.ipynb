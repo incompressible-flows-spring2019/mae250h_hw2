{
 "cells": [
  {
   "cell_type": "markdown",
   "metadata": {},
   "source": [
    "### A starting notebook for homework 2"
   ]
  },
  {
   "cell_type": "markdown",
   "metadata": {},
   "source": [
    "The next line activates the environment in which we are working on HW2. It is assumed that you already generated this environment, per the instructions in the document *UsingJulia.pdf*"
   ]
  },
  {
   "cell_type": "code",
   "execution_count": 1,
   "metadata": {},
   "outputs": [
    {
     "data": {
      "text/plain": [
       "\"/Users/jeff/Dropbox/MAE250H/julia/HW2/Project.toml\""
      ]
     },
     "execution_count": 1,
     "metadata": {},
     "output_type": "execute_result"
    }
   ],
   "source": [
    "using Pkg\n",
    "Pkg.activate(\"/Users/jeff/Dropbox/MAE250H/julia/HW2\")"
   ]
  },
  {
   "cell_type": "markdown",
   "metadata": {},
   "source": [
    "These load in some packages. The first package allows us to make immediate use of the code after we have changed it. This avoids the need to restart the Julia session every time we change code. The second line loads our HW1 module."
   ]
  },
  {
   "cell_type": "code",
   "execution_count": 2,
   "metadata": {},
   "outputs": [
    {
     "name": "stderr",
     "output_type": "stream",
     "text": [
      "┌ Info: Recompiling stale cache file /Users/jeff/.julia/compiled/v1.1/Revise/M1Qoh.ji for Revise [295af30f-e4ad-537b-8983-00126c2a3abe]\n",
      "└ @ Base loading.jl:1184\n",
      "[ Info: Generating builtins for this julia version...\n"
     ]
    }
   ],
   "source": [
    "using Revise\n",
    "using HW2"
   ]
  },
  {
   "cell_type": "markdown",
   "metadata": {},
   "source": [
    "### Working with our grid data types"
   ]
  },
  {
   "cell_type": "markdown",
   "metadata": {},
   "source": [
    "#### Cell-centered data"
   ]
  },
  {
   "cell_type": "markdown",
   "metadata": {},
   "source": [
    "Let's remind ourselves how to create cell-centered data"
   ]
  },
  {
   "cell_type": "code",
   "execution_count": 3,
   "metadata": {},
   "outputs": [
    {
     "data": {
      "text/latex": [
       "\\begin{verbatim}\n",
       "CellData(data)\n",
       "\\end{verbatim}\n",
       "Set up a type of data that sit at cell centers. The \\texttt{data} include the interior cells and the ghost cells, so the resulting grid will be smaller by 2 in each direction.\n",
       "\n",
       "Example:\n",
       "\n",
       "\\begin{verbatim}\n",
       "julia> w = ones(5,4);\n",
       "\n",
       "julia> HW2.CellData(w)\n",
       "HW2.CellData{3,2}([1.0 1.0 1.0 1.0; 1.0 1.0 1.0 1.0; … ; 1.0 1.0 1.0 1.0; 1.0 1.0 1.0 1.0])\n",
       "\\end{verbatim}\n",
       "\\rule{\\textwidth}{1pt}\n",
       "\\begin{verbatim}\n",
       "CellData(nx,ny)\n",
       "\\end{verbatim}\n",
       "Set up cell centered data equal to zero on a grid with \\texttt{(nx,ny)} interior cells. Pads with a layer of ghost cells on all sides.\n",
       "\n",
       "\\rule{\\textwidth}{1pt}\n",
       "\\begin{verbatim}\n",
       "CellData(p::GridData)\n",
       "\\end{verbatim}\n",
       "Set up cell centered data equal to zero on a grid corresponding to supplied grid data \\texttt{p}. Pads with a layer of ghost cells on all sides.\n",
       "\n"
      ],
      "text/markdown": [
       "```\n",
       "CellData(data)\n",
       "```\n",
       "\n",
       "Set up a type of data that sit at cell centers. The `data` include the interior cells and the ghost cells, so the resulting grid will be smaller by 2 in each direction.\n",
       "\n",
       "Example:\n",
       "\n",
       "```\n",
       "julia> w = ones(5,4);\n",
       "\n",
       "julia> HW2.CellData(w)\n",
       "HW2.CellData{3,2}([1.0 1.0 1.0 1.0; 1.0 1.0 1.0 1.0; … ; 1.0 1.0 1.0 1.0; 1.0 1.0 1.0 1.0])\n",
       "```\n",
       "\n",
       "---\n",
       "\n",
       "```\n",
       "CellData(nx,ny)\n",
       "```\n",
       "\n",
       "Set up cell centered data equal to zero on a grid with `(nx,ny)` interior cells. Pads with a layer of ghost cells on all sides.\n",
       "\n",
       "---\n",
       "\n",
       "```\n",
       "CellData(p::GridData)\n",
       "```\n",
       "\n",
       "Set up cell centered data equal to zero on a grid corresponding to supplied grid data `p`. Pads with a layer of ghost cells on all sides.\n"
      ],
      "text/plain": [
       "\u001b[36m  CellData(data)\u001b[39m\n",
       "\n",
       "  Set up a type of data that sit at cell centers. The \u001b[36mdata\u001b[39m include the\n",
       "  interior cells and the ghost cells, so the resulting grid will be smaller by\n",
       "  2 in each direction.\n",
       "\n",
       "  Example:\n",
       "\n",
       "\u001b[36m  julia> w = ones(5,4);\u001b[39m\n",
       "\u001b[36m  \u001b[39m\n",
       "\u001b[36m  julia> HW2.CellData(w)\u001b[39m\n",
       "\u001b[36m  HW2.CellData{3,2}([1.0 1.0 1.0 1.0; 1.0 1.0 1.0 1.0; … ; 1.0 1.0 1.0 1.0; 1.0 1.0 1.0 1.0])\u001b[39m\n",
       "\n",
       "  ────────────────────────────────────────────────────────────────────────────\n",
       "\n",
       "\u001b[36m  CellData(nx,ny)\u001b[39m\n",
       "\n",
       "  Set up cell centered data equal to zero on a grid with \u001b[36m(nx,ny)\u001b[39m interior\n",
       "  cells. Pads with a layer of ghost cells on all sides.\n",
       "\n",
       "  ────────────────────────────────────────────────────────────────────────────\n",
       "\n",
       "\u001b[36m  CellData(p::GridData)\u001b[39m\n",
       "\n",
       "  Set up cell centered data equal to zero on a grid corresponding to supplied\n",
       "  grid data \u001b[36mp\u001b[39m. Pads with a layer of ghost cells on all sides."
      ]
     },
     "execution_count": 3,
     "metadata": {},
     "output_type": "execute_result"
    }
   ],
   "source": [
    "?HW2.CellData"
   ]
  },
  {
   "cell_type": "markdown",
   "metadata": {},
   "source": [
    "Okay, let's use it in the first manner. We will set up some data (a field of 1s) and assign it to cells."
   ]
  },
  {
   "cell_type": "code",
   "execution_count": 4,
   "metadata": {},
   "outputs": [
    {
     "data": {
      "text/plain": [
       "HW2.CellData{3,2}([1.0 1.0 1.0 1.0; 1.0 1.0 1.0 1.0; … ; 1.0 1.0 1.0 1.0; 1.0 1.0 1.0 1.0])"
      ]
     },
     "execution_count": 4,
     "metadata": {},
     "output_type": "execute_result"
    }
   ],
   "source": [
    "HW2.CellData(ones(5,4))"
   ]
  },
  {
   "cell_type": "markdown",
   "metadata": {},
   "source": [
    "Let's create a set of cell data of a certain size and fill it with zeros, but set the value of a certain location to 1. Keep in mind that these data will get padded with ghost cells on all sides, so it will end up larger than the data we specify:"
   ]
  },
  {
   "cell_type": "code",
   "execution_count": 5,
   "metadata": {},
   "outputs": [],
   "source": [
    "nx = 50; ny = 25\n",
    "p = HW2.CellData(nx,ny)\n",
    "p.data[15,5] = 1;"
   ]
  },
  {
   "cell_type": "markdown",
   "metadata": {},
   "source": [
    "Here is its size, including ghost cells"
   ]
  },
  {
   "cell_type": "code",
   "execution_count": 6,
   "metadata": {},
   "outputs": [
    {
     "data": {
      "text/plain": [
       "(52, 27)"
      ]
     },
     "execution_count": 6,
     "metadata": {},
     "output_type": "execute_result"
    }
   ],
   "source": [
    "size(p)"
   ]
  },
  {
   "cell_type": "markdown",
   "metadata": {},
   "source": [
    "Note that `p` is a subtype of the parent type, called `GridData`, of the same size grid."
   ]
  },
  {
   "cell_type": "code",
   "execution_count": 7,
   "metadata": {},
   "outputs": [
    {
     "data": {
      "text/plain": [
       "true"
      ]
     },
     "execution_count": 7,
     "metadata": {},
     "output_type": "execute_result"
    }
   ],
   "source": [
    "typeof(p) <: HW2.GridData{50,25}"
   ]
  },
  {
   "cell_type": "markdown",
   "metadata": {},
   "source": [
    "Let's plot it. We will use a contour plot for this.\n",
    "\n",
    "Note that we are just plotting in index space for now, because we are not yet mapping this to physical space. We are naturally identifying the first index as the x index (representing a column of cells in the grid) and identifying the second index as the y index (a row of cells in the grid). However, an array is indexed first by its row index followed by its column index. So we need to transpose the array to plot it in index space."
   ]
  },
  {
   "cell_type": "code",
   "execution_count": 8,
   "metadata": {},
   "outputs": [
    {
     "name": "stderr",
     "output_type": "stream",
     "text": [
      "┌ Info: Recompiling stale cache file /Users/jeff/.julia/compiled/v1.1/Plots/ld3vC.ji for Plots [91a5bcdd-55d7-5caf-9e0b-520d859cae80]\n",
      "└ @ Base loading.jl:1184\n"
     ]
    }
   ],
   "source": [
    "using Plots"
   ]
  },
  {
   "cell_type": "code",
   "execution_count": 9,
   "metadata": {},
   "outputs": [
    {
     "data": {
      "image/svg+xml": [
       "<?xml version=\"1.0\" encoding=\"utf-8\"?>\n",
       "<svg xmlns=\"http://www.w3.org/2000/svg\" xmlns:xlink=\"http://www.w3.org/1999/xlink\" width=\"600\" height=\"400\" viewBox=\"0 0 2400 1600\">\n",
       "<defs>\n",
       "  <clipPath id=\"clip1900\">\n",
       "    <rect x=\"0\" y=\"0\" width=\"2400\" height=\"1600\"/>\n",
       "  </clipPath>\n",
       "</defs>\n",
       "<polygon clip-path=\"url(#clip1900)\" points=\"\n",
       "0,1600 2400,1600 2400,0 0,0 \n",
       "  \" fill=\"#ffffff\" fill-rule=\"evenodd\" fill-opacity=\"1\"/>\n",
       "<defs>\n",
       "  <clipPath id=\"clip1901\">\n",
       "    <rect x=\"480\" y=\"0\" width=\"1681\" height=\"1600\"/>\n",
       "  </clipPath>\n",
       "</defs>\n",
       "<polygon clip-path=\"url(#clip1900)\" points=\"\n",
       "148.013,1248.81 2081.26,1248.81 2081.26,301.911 148.013,301.911 \n",
       "  \" fill=\"#ffffff\" fill-rule=\"evenodd\" fill-opacity=\"1\"/>\n",
       "<defs>\n",
       "  <clipPath id=\"clip1902\">\n",
       "    <rect x=\"148\" y=\"301\" width=\"1934\" height=\"948\"/>\n",
       "  </clipPath>\n",
       "</defs>\n",
       "<polyline clip-path=\"url(#clip1902)\" style=\"stroke:#000000; stroke-width:2; stroke-opacity:0.1; fill:none\" points=\"\n",
       "  463.645,1248.81 463.645,301.911 \n",
       "  \"/>\n",
       "<polyline clip-path=\"url(#clip1902)\" style=\"stroke:#000000; stroke-width:2; stroke-opacity:0.1; fill:none\" points=\"\n",
       "  858.185,1248.81 858.185,301.911 \n",
       "  \"/>\n",
       "<polyline clip-path=\"url(#clip1902)\" style=\"stroke:#000000; stroke-width:2; stroke-opacity:0.1; fill:none\" points=\"\n",
       "  1252.73,1248.81 1252.73,301.911 \n",
       "  \"/>\n",
       "<polyline clip-path=\"url(#clip1902)\" style=\"stroke:#000000; stroke-width:2; stroke-opacity:0.1; fill:none\" points=\"\n",
       "  1647.27,1248.81 1647.27,301.911 \n",
       "  \"/>\n",
       "<polyline clip-path=\"url(#clip1902)\" style=\"stroke:#000000; stroke-width:2; stroke-opacity:0.1; fill:none\" points=\"\n",
       "  2041.81,1248.81 2041.81,301.911 \n",
       "  \"/>\n",
       "<polyline clip-path=\"url(#clip1902)\" style=\"stroke:#000000; stroke-width:2; stroke-opacity:0.1; fill:none\" points=\"\n",
       "  148.013,1130.45 2081.26,1130.45 \n",
       "  \"/>\n",
       "<polyline clip-path=\"url(#clip1902)\" style=\"stroke:#000000; stroke-width:2; stroke-opacity:0.1; fill:none\" points=\"\n",
       "  148.013,933.175 2081.26,933.175 \n",
       "  \"/>\n",
       "<polyline clip-path=\"url(#clip1902)\" style=\"stroke:#000000; stroke-width:2; stroke-opacity:0.1; fill:none\" points=\"\n",
       "  148.013,735.905 2081.26,735.905 \n",
       "  \"/>\n",
       "<polyline clip-path=\"url(#clip1902)\" style=\"stroke:#000000; stroke-width:2; stroke-opacity:0.1; fill:none\" points=\"\n",
       "  148.013,538.635 2081.26,538.635 \n",
       "  \"/>\n",
       "<polyline clip-path=\"url(#clip1902)\" style=\"stroke:#000000; stroke-width:2; stroke-opacity:0.1; fill:none\" points=\"\n",
       "  148.013,341.365 2081.26,341.365 \n",
       "  \"/>\n",
       "<polyline clip-path=\"url(#clip1900)\" style=\"stroke:#000000; stroke-width:4; stroke-opacity:1; fill:none\" points=\"\n",
       "  148.013,1248.81 2081.26,1248.81 \n",
       "  \"/>\n",
       "<polyline clip-path=\"url(#clip1900)\" style=\"stroke:#000000; stroke-width:4; stroke-opacity:1; fill:none\" points=\"\n",
       "  148.013,1248.81 148.013,301.911 \n",
       "  \"/>\n",
       "<polyline clip-path=\"url(#clip1900)\" style=\"stroke:#000000; stroke-width:4; stroke-opacity:1; fill:none\" points=\"\n",
       "  463.645,1248.81 463.645,1234.6 \n",
       "  \"/>\n",
       "<polyline clip-path=\"url(#clip1900)\" style=\"stroke:#000000; stroke-width:4; stroke-opacity:1; fill:none\" points=\"\n",
       "  858.185,1248.81 858.185,1234.6 \n",
       "  \"/>\n",
       "<polyline clip-path=\"url(#clip1900)\" style=\"stroke:#000000; stroke-width:4; stroke-opacity:1; fill:none\" points=\"\n",
       "  1252.73,1248.81 1252.73,1234.6 \n",
       "  \"/>\n",
       "<polyline clip-path=\"url(#clip1900)\" style=\"stroke:#000000; stroke-width:4; stroke-opacity:1; fill:none\" points=\"\n",
       "  1647.27,1248.81 1647.27,1234.6 \n",
       "  \"/>\n",
       "<polyline clip-path=\"url(#clip1900)\" style=\"stroke:#000000; stroke-width:4; stroke-opacity:1; fill:none\" points=\"\n",
       "  2041.81,1248.81 2041.81,1234.6 \n",
       "  \"/>\n",
       "<polyline clip-path=\"url(#clip1900)\" style=\"stroke:#000000; stroke-width:4; stroke-opacity:1; fill:none\" points=\"\n",
       "  148.013,1130.45 177.012,1130.45 \n",
       "  \"/>\n",
       "<polyline clip-path=\"url(#clip1900)\" style=\"stroke:#000000; stroke-width:4; stroke-opacity:1; fill:none\" points=\"\n",
       "  148.013,933.175 177.012,933.175 \n",
       "  \"/>\n",
       "<polyline clip-path=\"url(#clip1900)\" style=\"stroke:#000000; stroke-width:4; stroke-opacity:1; fill:none\" points=\"\n",
       "  148.013,735.905 177.012,735.905 \n",
       "  \"/>\n",
       "<polyline clip-path=\"url(#clip1900)\" style=\"stroke:#000000; stroke-width:4; stroke-opacity:1; fill:none\" points=\"\n",
       "  148.013,538.635 177.012,538.635 \n",
       "  \"/>\n",
       "<polyline clip-path=\"url(#clip1900)\" style=\"stroke:#000000; stroke-width:4; stroke-opacity:1; fill:none\" points=\"\n",
       "  148.013,341.365 177.012,341.365 \n",
       "  \"/>\n",
       "<g clip-path=\"url(#clip1900)\">\n",
       "<text style=\"fill:#000000; fill-opacity:1; font-family:Arial,Helvetica Neue,Helvetica,sans-serif; font-size:48px; text-anchor:middle;\" transform=\"rotate(0, 463.645, 1302.81)\" x=\"463.645\" y=\"1302.81\">10</text>\n",
       "</g>\n",
       "<g clip-path=\"url(#clip1900)\">\n",
       "<text style=\"fill:#000000; fill-opacity:1; font-family:Arial,Helvetica Neue,Helvetica,sans-serif; font-size:48px; text-anchor:middle;\" transform=\"rotate(0, 858.185, 1302.81)\" x=\"858.185\" y=\"1302.81\">20</text>\n",
       "</g>\n",
       "<g clip-path=\"url(#clip1900)\">\n",
       "<text style=\"fill:#000000; fill-opacity:1; font-family:Arial,Helvetica Neue,Helvetica,sans-serif; font-size:48px; text-anchor:middle;\" transform=\"rotate(0, 1252.73, 1302.81)\" x=\"1252.73\" y=\"1302.81\">30</text>\n",
       "</g>\n",
       "<g clip-path=\"url(#clip1900)\">\n",
       "<text style=\"fill:#000000; fill-opacity:1; font-family:Arial,Helvetica Neue,Helvetica,sans-serif; font-size:48px; text-anchor:middle;\" transform=\"rotate(0, 1647.27, 1302.81)\" x=\"1647.27\" y=\"1302.81\">40</text>\n",
       "</g>\n",
       "<g clip-path=\"url(#clip1900)\">\n",
       "<text style=\"fill:#000000; fill-opacity:1; font-family:Arial,Helvetica Neue,Helvetica,sans-serif; font-size:48px; text-anchor:middle;\" transform=\"rotate(0, 2041.81, 1302.81)\" x=\"2041.81\" y=\"1302.81\">50</text>\n",
       "</g>\n",
       "<g clip-path=\"url(#clip1900)\">\n",
       "<text style=\"fill:#000000; fill-opacity:1; font-family:Arial,Helvetica Neue,Helvetica,sans-serif; font-size:48px; text-anchor:end;\" transform=\"rotate(0, 124.013, 1147.95)\" x=\"124.013\" y=\"1147.95\">5</text>\n",
       "</g>\n",
       "<g clip-path=\"url(#clip1900)\">\n",
       "<text style=\"fill:#000000; fill-opacity:1; font-family:Arial,Helvetica Neue,Helvetica,sans-serif; font-size:48px; text-anchor:end;\" transform=\"rotate(0, 124.013, 950.675)\" x=\"124.013\" y=\"950.675\">10</text>\n",
       "</g>\n",
       "<g clip-path=\"url(#clip1900)\">\n",
       "<text style=\"fill:#000000; fill-opacity:1; font-family:Arial,Helvetica Neue,Helvetica,sans-serif; font-size:48px; text-anchor:end;\" transform=\"rotate(0, 124.013, 753.405)\" x=\"124.013\" y=\"753.405\">15</text>\n",
       "</g>\n",
       "<g clip-path=\"url(#clip1900)\">\n",
       "<text style=\"fill:#000000; fill-opacity:1; font-family:Arial,Helvetica Neue,Helvetica,sans-serif; font-size:48px; text-anchor:end;\" transform=\"rotate(0, 124.013, 556.135)\" x=\"124.013\" y=\"556.135\">20</text>\n",
       "</g>\n",
       "<g clip-path=\"url(#clip1900)\">\n",
       "<text style=\"fill:#000000; fill-opacity:1; font-family:Arial,Helvetica Neue,Helvetica,sans-serif; font-size:48px; text-anchor:end;\" transform=\"rotate(0, 124.013, 358.865)\" x=\"124.013\" y=\"358.865\">25</text>\n",
       "</g>\n",
       "<polyline clip-path=\"url(#clip1902)\" style=\"stroke:#0d0829; stroke-width:4; stroke-opacity:1; fill:none\" points=\"\n",
       "  624.279,1130.45 660.915,1167.08 697.551,1130.45 660.915,1093.81 624.279,1130.45 \n",
       "  \"/>\n",
       "<polyline clip-path=\"url(#clip1902)\" style=\"stroke:#270b52; stroke-width:4; stroke-opacity:1; fill:none\" points=\"\n",
       "  627.097,1130.45 660.915,1164.26 694.733,1130.45 660.915,1096.63 627.097,1130.45 \n",
       "  \"/>\n",
       "<polyline clip-path=\"url(#clip1902)\" style=\"stroke:#470b69; stroke-width:4; stroke-opacity:1; fill:none\" points=\"\n",
       "  629.916,1130.45 660.915,1161.45 691.915,1130.45 660.915,1099.45 629.916,1130.45 \n",
       "  \"/>\n",
       "<polyline clip-path=\"url(#clip1902)\" style=\"stroke:#63146e; stroke-width:4; stroke-opacity:1; fill:none\" points=\"\n",
       "  632.734,1130.45 660.915,1158.63 689.097,1130.45 660.915,1102.26 632.734,1130.45 \n",
       "  \"/>\n",
       "<polyline clip-path=\"url(#clip1902)\" style=\"stroke:#821f6b; stroke-width:4; stroke-opacity:1; fill:none\" points=\"\n",
       "  635.552,1130.45 660.915,1155.81 686.278,1130.45 660.915,1105.08 635.552,1130.45 \n",
       "  \"/>\n",
       "<polyline clip-path=\"url(#clip1902)\" style=\"stroke:#9e2a62; stroke-width:4; stroke-opacity:1; fill:none\" points=\"\n",
       "  638.37,1130.45 660.915,1152.99 683.46,1130.45 660.915,1107.9 638.37,1130.45 \n",
       "  \"/>\n",
       "<polyline clip-path=\"url(#clip1902)\" style=\"stroke:#ba3655; stroke-width:4; stroke-opacity:1; fill:none\" points=\"\n",
       "  641.188,1130.45 660.915,1150.17 680.642,1130.45 660.915,1110.72 641.188,1130.45 \n",
       "  \"/>\n",
       "<polyline clip-path=\"url(#clip1902)\" style=\"stroke:#d24742; stroke-width:4; stroke-opacity:1; fill:none\" points=\"\n",
       "  644.006,1130.45 660.915,1147.35 677.824,1130.45 660.915,1113.54 644.006,1130.45 \n",
       "  \"/>\n",
       "<polyline clip-path=\"url(#clip1902)\" style=\"stroke:#e65e2d; stroke-width:4; stroke-opacity:1; fill:none\" points=\"\n",
       "  646.824,1130.45 660.915,1144.54 675.006,1130.45 660.915,1116.35 646.824,1130.45 \n",
       "  \"/>\n",
       "<polyline clip-path=\"url(#clip1902)\" style=\"stroke:#f57d15; stroke-width:4; stroke-opacity:1; fill:none\" points=\"\n",
       "  649.643,1130.45 660.915,1141.72 672.188,1130.45 660.915,1119.17 649.643,1130.45 \n",
       "  \"/>\n",
       "<polyline clip-path=\"url(#clip1902)\" style=\"stroke:#fb9c07; stroke-width:4; stroke-opacity:1; fill:none\" points=\"\n",
       "  652.461,1130.45 660.915,1138.9 669.37,1130.45 660.915,1121.99 652.461,1130.45 \n",
       "  \"/>\n",
       "<polyline clip-path=\"url(#clip1902)\" style=\"stroke:#fabf26; stroke-width:4; stroke-opacity:1; fill:none\" points=\"\n",
       "  655.279,1130.45 660.915,1136.08 666.551,1130.45 660.915,1124.81 655.279,1130.45 \n",
       "  \"/>\n",
       "<polyline clip-path=\"url(#clip1902)\" style=\"stroke:#f3e258; stroke-width:4; stroke-opacity:1; fill:none\" points=\"\n",
       "  658.097,1130.45 660.915,1133.26 663.733,1130.45 660.915,1127.63 658.097,1130.45 \n",
       "  \"/>\n",
       "<defs>\n",
       "  <clipPath id=\"clip1903\">\n",
       "    <rect x=\"2129\" y=\"301\" width=\"73\" height=\"948\"/>\n",
       "  </clipPath>\n",
       "</defs>\n",
       "<g clip-path=\"url(#clip1903)\">\n",
       "<image width=\"72\" height=\"947\" xlink:href=\"data:image/png;base64,\n",
       "iVBORw0KGgoAAAANSUhEUgAAAEgAAAOzCAYAAAAbUEAAAAAHgUlEQVR4nO3cQWoTUBSG0cS8QRyY\n",
       "iYhr6L67B1fRFRQsjREqFASLGZRgXEH7Dd8bnLOCy8c/vtvLv9vrhjd9mH3A6gQKAgWBgkBBoCBQ\n",
       "ECgIFAQKAgWBgkBBoCBQECgIFAQKAgWBgkBBoCBQECgIFAQKAgWBgkBBoCBQECgIFAQKAgWBgkBB\n",
       "oCBQECgIFAQKAgWBgkBBoCBQECgIFAQKAgWBgkBBoCBQECgIFAQKAgWBgkBBoCBQGOef32bfsDQL\n",
       "CgIFgYJAQaAgUBAoCBQECgIFgYJAQaAgUBAoCBQECgIFgYJAQaAgUBAoCBQECgIFgYJAQaAgUBAo\n",
       "CBQECgIFgYJAQaAgUBAoCBQECgIFgYJAQaAgUBAoCBQECgIFgYJAQaAgUBAoCBQECgIFgYJAQaAg\n",
       "UBj773ezb1iaBQWBgkBBoCBQECgIFAQKAgWBgkBBoCBQECgIFAQKAgWBgkBBoCBQECgIFAQKAgWB\n",
       "gkBBoCBQECgIFAQKAgWBgkBBoCBQECgIFAQKAgWBgkBBoCBQECgIFAQKAgWBgkBBoCBQECgIFAQK\n",
       "AgWBgkBBoCBQECiM7f3D7BuWZkFBoCBQECgIFAQKAgWBgkBBoCBQECgIFAQKAgWBgkBBoCBQECgI\n",
       "FAQKAgWBgkBBoCBQECgIFAQKAgWBgkBBoCBQECgIFAQKAgWBgkBBoCBQECgIFAQKAgWBgkBBoCBQ\n",
       "ECgIFAQKAgWBgkBBoCBQECgIFAQK4/XxMPuGpVlQECgIFAQKAgWBgkBBoCBQECgIFAQKAgWBgkBB\n",
       "oCBQECgIFAQKAgWBgkBBoCBQECgIFAQKAgWBgkBBoCBQECgIFAQKAgWBgkBBoCBQECgIFAQKAgWB\n",
       "gkBBoCBQECgIFAQKAgWBgkBBoCBQECgIFAQKAgWBwvhz/Dr7hqVZUBAoCBQECgIFgYJAQaAgUBAo\n",
       "CBQECgIFgYJAQaAgUBAoCBQECgIFgYJAQaAgUBAoCBQECgIFgYJAQaAgUBAoCBQECgIFgYJAQaAg\n",
       "UBAoCBQECgIFgYJAQaAgUBAoCBQECgIFgYJAQaAgUBAoCBQECgIFgcJ4/vVl9g1Ls6AgUBAoCBQE\n",
       "CgIFgYJAQaAgUBAoCBQECgIFgYJAQaAgUBAoCBQECgIFgYJAQaAgUBAoCBQECgIFgYJAQaAgUBAo\n",
       "CBQECgIFgYJAQaAgUBAoCBQECgIFgYJAQaAgUBAoCBQECgIFgYJAQaAgUBAoCBQECgKF8fT78+wb\n",
       "lmZBQaAgUBAoCBQECgIFgYJAQaAgUBAoCBQECgIFgYJAQaAgUBAoCBQECgIFgYJAQaAgUBAoCBQE\n",
       "CgIFgYJAQaAgUBAoCBQECgIFgYJAQaAgUBAoCBQECgIFgYJAQaAgUBAoCBQECgIFgYJAQaAgUBAo\n",
       "CBQECgKF8ePlMPuGpVlQECgIFAQKAgWBgkBBoCBQECgIFAQKAgWBgkBBoCBQECgIFAQKAgWBgkBB\n",
       "oCBQECgIFAQKAgWBgkBBoCBQECgIFAQKAgWBgkBBoCBQECgIFAQKAgWBgkBBoCBQECgIFAQKAgWB\n",
       "gkBBoCBQECgIFAQKAgWBwjj9/Tj7hqVZUBAoCBQECgIFgYJAQaAgUBAoCBQECgIFgYJAQaAgUBAo\n",
       "CBQECgIFgYJAQaAgUBAoCBQECgIFgYJAQaAgUBAoCBQECgIFgYJAQaAgUBAoCBQECgIFgYJAQaAg\n",
       "UBAoCBQECgIFgYJAQaAgUBAoCBQECgIFgcI4nnezb1iaBQWBgkBBoCBQECgIFAQKAgWBgkBBoCBQ\n",
       "ECgIFAQKAgWBgkBBoCBQECgIFAQKAgWBgkBBoCBQECgIFAQKAgWBgkBBoCBQECgIFAQKAgWBgkBB\n",
       "oCBQECgIFAQKAgWBgkBBoCBQECgIFAQKAgWBgkBBoCBQECiM0/ky+4alWVAQKAgUBAoCBYGCQEGg\n",
       "IFAQKAgUBAoCBYGCQEGgIFAQKAgUBAoCBYGCQEGgIFAQKAgUBAoCBYGCQEGgIFAQKAgUBAoCBYGC\n",
       "QEGgIFAQKAgUBAoCBYGCQEGgIFAQKAgUBAoCBYGCQEGgIFAQKAgUBAoCBYHCeNg8zb5haRYUBAoC\n",
       "BYGCQEGgIFAQKAgUBAoCBYGCQEGgIFAQKAgUBAoCBYGCQEGgIFAQKAgUBAoCBYGCQEGgIFAQKAgU\n",
       "BAoCBYGCQEGgIFAQKAgUBAoCBYGCQEGgIFAQKAgUBAoCBYGCQEGgIFAQKAgUBAoCBYGCQEGgsP20\n",
       "v7nOPmJlFhQECgIFgYJAQaAgUBAoCBQECgIFgYJAQaAgUBAoCBQECgIFgYJAQaAgUBAoCBQECgIF\n",
       "gYJAQaAgUBAoCBQECgIFgYJAQaAgUBAoCBQECgIFgYJAQaAgUBAoCBQECgIFgYJAQaAgUBAoCBQE\n",
       "CgIFgYJAQaCw3Wx23uO8w4KCQEGgIFAQKAgUBAoCBYGCQEGgIFAQKAgUBAoCBYGCQEGgIFAQKAgU\n",
       "BAoCBYGCQEGgIFAQKAgUBAoCBYGCQEGgIFAQKAgUBAoCBYGCQEGgIFAQKAgUBAoCBYGCQEGgIFAQ\n",
       "KAgUBAoCBYGCQEGgIFAQKAgU/gMuCiU+8xeSTQAAAABJRU5ErkJggg==\n",
       "\" transform=\"translate(2129, 302)\"/>\n",
       "</g>\n",
       "<g clip-path=\"url(#clip1900)\">\n",
       "<text style=\"fill:#000000; fill-opacity:1; font-family:Arial,Helvetica Neue,Helvetica,sans-serif; font-size:48px; text-anchor:start;\" transform=\"rotate(0, 2237.26, 1262.46)\" x=\"2237.26\" y=\"1262.46\">0</text>\n",
       "</g>\n",
       "<g clip-path=\"url(#clip1900)\">\n",
       "<text style=\"fill:#000000; fill-opacity:1; font-family:Arial,Helvetica Neue,Helvetica,sans-serif; font-size:48px; text-anchor:start;\" transform=\"rotate(0, 2237.26, 1167.77)\" x=\"2237.26\" y=\"1167.77\">0.1</text>\n",
       "</g>\n",
       "<g clip-path=\"url(#clip1900)\">\n",
       "<text style=\"fill:#000000; fill-opacity:1; font-family:Arial,Helvetica Neue,Helvetica,sans-serif; font-size:48px; text-anchor:start;\" transform=\"rotate(0, 2237.26, 1073.08)\" x=\"2237.26\" y=\"1073.08\">0.2</text>\n",
       "</g>\n",
       "<g clip-path=\"url(#clip1900)\">\n",
       "<text style=\"fill:#000000; fill-opacity:1; font-family:Arial,Helvetica Neue,Helvetica,sans-serif; font-size:48px; text-anchor:start;\" transform=\"rotate(0, 2237.26, 978.39)\" x=\"2237.26\" y=\"978.39\">0.3</text>\n",
       "</g>\n",
       "<g clip-path=\"url(#clip1900)\">\n",
       "<text style=\"fill:#000000; fill-opacity:1; font-family:Arial,Helvetica Neue,Helvetica,sans-serif; font-size:48px; text-anchor:start;\" transform=\"rotate(0, 2237.26, 883.7)\" x=\"2237.26\" y=\"883.7\">0.4</text>\n",
       "</g>\n",
       "<g clip-path=\"url(#clip1900)\">\n",
       "<text style=\"fill:#000000; fill-opacity:1; font-family:Arial,Helvetica Neue,Helvetica,sans-serif; font-size:48px; text-anchor:start;\" transform=\"rotate(0, 2237.26, 789.011)\" x=\"2237.26\" y=\"789.011\">0.5</text>\n",
       "</g>\n",
       "<g clip-path=\"url(#clip1900)\">\n",
       "<text style=\"fill:#000000; fill-opacity:1; font-family:Arial,Helvetica Neue,Helvetica,sans-serif; font-size:48px; text-anchor:start;\" transform=\"rotate(0, 2237.26, 694.321)\" x=\"2237.26\" y=\"694.321\">0.6</text>\n",
       "</g>\n",
       "<g clip-path=\"url(#clip1900)\">\n",
       "<text style=\"fill:#000000; fill-opacity:1; font-family:Arial,Helvetica Neue,Helvetica,sans-serif; font-size:48px; text-anchor:start;\" transform=\"rotate(0, 2237.26, 599.631)\" x=\"2237.26\" y=\"599.631\">0.7</text>\n",
       "</g>\n",
       "<g clip-path=\"url(#clip1900)\">\n",
       "<text style=\"fill:#000000; fill-opacity:1; font-family:Arial,Helvetica Neue,Helvetica,sans-serif; font-size:48px; text-anchor:start;\" transform=\"rotate(0, 2237.26, 504.942)\" x=\"2237.26\" y=\"504.942\">0.8</text>\n",
       "</g>\n",
       "<g clip-path=\"url(#clip1900)\">\n",
       "<text style=\"fill:#000000; fill-opacity:1; font-family:Arial,Helvetica Neue,Helvetica,sans-serif; font-size:48px; text-anchor:start;\" transform=\"rotate(0, 2237.26, 410.252)\" x=\"2237.26\" y=\"410.252\">0.9</text>\n",
       "</g>\n",
       "<g clip-path=\"url(#clip1900)\">\n",
       "<text style=\"fill:#000000; fill-opacity:1; font-family:Arial,Helvetica Neue,Helvetica,sans-serif; font-size:48px; text-anchor:start;\" transform=\"rotate(0, 2237.26, 315.562)\" x=\"2237.26\" y=\"315.562\">1.0</text>\n",
       "</g>\n",
       "<polyline clip-path=\"url(#clip1900)\" style=\"stroke:#000000; stroke-width:4; stroke-opacity:1; fill:none\" points=\"\n",
       "  2201.26,1248.81 2201.26,1248.81 2225.26,1248.81 2201.26,1248.81 2201.26,1154.12 2225.26,1154.12 2201.26,1154.12 2201.26,1059.43 2225.26,1059.43 2201.26,1059.43 \n",
       "  2201.26,964.739 2225.26,964.739 2201.26,964.739 2201.26,870.049 2225.26,870.049 2201.26,870.049 2201.26,775.359 2225.26,775.359 2201.26,775.359 2201.26,680.67 \n",
       "  2225.26,680.67 2201.26,680.67 2201.26,585.98 2225.26,585.98 2201.26,585.98 2201.26,491.29 2225.26,491.29 2201.26,491.29 2201.26,396.601 2225.26,396.601 \n",
       "  2201.26,396.601 2201.26,301.911 2225.26,301.911 2201.26,301.911 \n",
       "  \"/>\n",
       "<g clip-path=\"url(#clip1900)\">\n",
       "<text style=\"fill:#000000; fill-opacity:1; font-family:Arial,Helvetica Neue,Helvetica,sans-serif; font-size:66px; text-anchor:middle;\" transform=\"rotate(-90, 2378.86, 775.359)\" x=\"2378.86\" y=\"775.359\"></text>\n",
       "</g>\n",
       "</svg>\n"
      ]
     },
     "execution_count": 9,
     "metadata": {},
     "output_type": "execute_result"
    }
   ],
   "source": [
    "# Setting ratio = 1 ensures that the aspect ratio is preserved\n",
    "# We set the plot limits so that only the interior cells are plotted\n",
    "plot(transpose(p.data),seriestype=:contour,ratio=1,xlim=(2,nx+1),ylim=(2,ny+1))"
   ]
  },
  {
   "cell_type": "markdown",
   "metadata": {},
   "source": [
    "It's not very interesting, but it verifies that we have indeed set the value to 1 at the correct position."
   ]
  },
  {
   "cell_type": "markdown",
   "metadata": {},
   "source": [
    "Let's try some other operations. We will use the LinearAlgebra package to help us with these"
   ]
  },
  {
   "cell_type": "code",
   "execution_count": 10,
   "metadata": {},
   "outputs": [],
   "source": [
    "using LinearAlgebra"
   ]
  },
  {
   "cell_type": "markdown",
   "metadata": {},
   "source": [
    "Here are a few other operations that come in handy. We will set up some other cell data of the same size, but with all zeros:"
   ]
  },
  {
   "cell_type": "code",
   "execution_count": 11,
   "metadata": {},
   "outputs": [
    {
     "data": {
      "text/plain": [
       "HW2.CellData{50,25}([0.0 0.0 … 0.0 0.0; 0.0 0.0 … 0.0 0.0; … ; 0.0 0.0 … 0.0 0.0; 0.0 0.0 … 0.0 0.0])"
      ]
     },
     "execution_count": 11,
     "metadata": {},
     "output_type": "execute_result"
    }
   ],
   "source": [
    "p2 = HW2.CellData(p)"
   ]
  },
  {
   "cell_type": "markdown",
   "metadata": {},
   "source": [
    "If we take the inner product between these, we get 0, as we would expect:"
   ]
  },
  {
   "cell_type": "code",
   "execution_count": 12,
   "metadata": {},
   "outputs": [
    {
     "data": {
      "text/plain": [
       "0.0"
      ]
     },
     "execution_count": 12,
     "metadata": {},
     "output_type": "execute_result"
    }
   ],
   "source": [
    "dot(p,p2)"
   ]
  },
  {
   "cell_type": "markdown",
   "metadata": {},
   "source": [
    "The norm of the original data is 1/sqrt(nx*ny), however, since one of its entries is 1:"
   ]
  },
  {
   "cell_type": "code",
   "execution_count": 14,
   "metadata": {},
   "outputs": [
    {
     "data": {
      "text/plain": [
       "0.0282842712474619"
      ]
     },
     "execution_count": 14,
     "metadata": {},
     "output_type": "execute_result"
    }
   ],
   "source": [
    "norm(p)"
   ]
  },
  {
   "cell_type": "code",
   "execution_count": 15,
   "metadata": {},
   "outputs": [
    {
     "data": {
      "text/plain": [
       "0.0282842712474619"
      ]
     },
     "execution_count": 15,
     "metadata": {},
     "output_type": "execute_result"
    }
   ],
   "source": [
    "1/sqrt(nx*ny)"
   ]
  },
  {
   "cell_type": "markdown",
   "metadata": {},
   "source": [
    "Another operation we have defined on cell data is an integral:"
   ]
  },
  {
   "cell_type": "code",
   "execution_count": 16,
   "metadata": {},
   "outputs": [
    {
     "data": {
      "text/latex": [
       "\\begin{verbatim}\n",
       "integrate(p::CellData) -> Real\n",
       "\\end{verbatim}\n",
       "Computes a numerical quadrature of the cell-centered data.\n",
       "\n",
       "\\rule{\\textwidth}{1pt}\n",
       "\\begin{verbatim}\n",
       "integrate(p::NodeData) -> Real\n",
       "\\end{verbatim}\n",
       "Computes a numerical quadrature of the node data.\n",
       "\n"
      ],
      "text/markdown": [
       "```\n",
       "integrate(p::CellData) -> Real\n",
       "```\n",
       "\n",
       "Computes a numerical quadrature of the cell-centered data.\n",
       "\n",
       "---\n",
       "\n",
       "```\n",
       "integrate(p::NodeData) -> Real\n",
       "```\n",
       "\n",
       "Computes a numerical quadrature of the node data.\n"
      ],
      "text/plain": [
       "\u001b[36m  integrate(p::CellData) -> Real\u001b[39m\n",
       "\n",
       "  Computes a numerical quadrature of the cell-centered data.\n",
       "\n",
       "  ────────────────────────────────────────────────────────────────────────────\n",
       "\n",
       "\u001b[36m  integrate(p::NodeData) -> Real\u001b[39m\n",
       "\n",
       "  Computes a numerical quadrature of the node data."
      ]
     },
     "execution_count": 16,
     "metadata": {},
     "output_type": "execute_result"
    }
   ],
   "source": [
    "?HW2.integrate"
   ]
  },
  {
   "cell_type": "code",
   "execution_count": 17,
   "metadata": {},
   "outputs": [
    {
     "data": {
      "text/plain": [
       "0.0008"
      ]
     },
     "execution_count": 17,
     "metadata": {},
     "output_type": "execute_result"
    }
   ],
   "source": [
    "HW2.integrate(p)"
   ]
  },
  {
   "cell_type": "markdown",
   "metadata": {},
   "source": [
    "#### Edge data"
   ]
  },
  {
   "cell_type": "code",
   "execution_count": 18,
   "metadata": {
    "scrolled": true
   },
   "outputs": [
    {
     "data": {
      "text/latex": [
       "\\begin{verbatim}\n",
       "EdgeData(nx,ny)\n",
       "\\end{verbatim}\n",
       "Set up edge data equal to zero on a grid with \\texttt{(nx,ny)} interior cells. Pads with ghosts where appropriate.\n",
       "\n",
       "\\rule{\\textwidth}{1pt}\n",
       "\\begin{verbatim}\n",
       "EdgeData(p::GridData)\n",
       "\\end{verbatim}\n",
       "Set up edge data equal to zero on a grid of a size corresponding to the given grid data \\texttt{p}. Pads with ghosts.\n",
       "\n",
       "Example:\n",
       "\n",
       "\\begin{verbatim}\n",
       "julia> p = HW2.CellData(5,4)\n",
       "HW2.CellData{5,4}([0.0 0.0 … 0.0 0.0; 0.0 0.0 … 0.0 0.0; … ; 0.0 0.0 … 0.0 0.0; 0.0 0.0 … 0.0 0.0])\n",
       "\n",
       "julia> q = HW2.EdgeData(p)\n",
       "HW2.EdgeData{5,4}([0.0 0.0 … 0.0 0.0; 0.0 0.0 … 0.0 0.0; … ; 0.0 0.0 … 0.0 0.0; 0.0 0.0 … 0.0 0.0], [0.0 0.0 … 0.0 0.0; 0.0 0.0 … 0.0 0.0; … ; 0.0 0.0 … 0.0 0.0; 0.0 0.0 … 0.0 0.0])\n",
       "\\end{verbatim}\n"
      ],
      "text/markdown": [
       "```\n",
       "EdgeData(nx,ny)\n",
       "```\n",
       "\n",
       "Set up edge data equal to zero on a grid with `(nx,ny)` interior cells. Pads with ghosts where appropriate.\n",
       "\n",
       "---\n",
       "\n",
       "```\n",
       "EdgeData(p::GridData)\n",
       "```\n",
       "\n",
       "Set up edge data equal to zero on a grid of a size corresponding to the given grid data `p`. Pads with ghosts.\n",
       "\n",
       "Example:\n",
       "\n",
       "```\n",
       "julia> p = HW2.CellData(5,4)\n",
       "HW2.CellData{5,4}([0.0 0.0 … 0.0 0.0; 0.0 0.0 … 0.0 0.0; … ; 0.0 0.0 … 0.0 0.0; 0.0 0.0 … 0.0 0.0])\n",
       "\n",
       "julia> q = HW2.EdgeData(p)\n",
       "HW2.EdgeData{5,4}([0.0 0.0 … 0.0 0.0; 0.0 0.0 … 0.0 0.0; … ; 0.0 0.0 … 0.0 0.0; 0.0 0.0 … 0.0 0.0], [0.0 0.0 … 0.0 0.0; 0.0 0.0 … 0.0 0.0; … ; 0.0 0.0 … 0.0 0.0; 0.0 0.0 … 0.0 0.0])\n",
       "```\n"
      ],
      "text/plain": [
       "\u001b[36m  EdgeData(nx,ny)\u001b[39m\n",
       "\n",
       "  Set up edge data equal to zero on a grid with \u001b[36m(nx,ny)\u001b[39m interior cells. Pads\n",
       "  with ghosts where appropriate.\n",
       "\n",
       "  ────────────────────────────────────────────────────────────────────────────\n",
       "\n",
       "\u001b[36m  EdgeData(p::GridData)\u001b[39m\n",
       "\n",
       "  Set up edge data equal to zero on a grid of a size corresponding to the\n",
       "  given grid data \u001b[36mp\u001b[39m. Pads with ghosts.\n",
       "\n",
       "  Example:\n",
       "\n",
       "\u001b[36m  julia> p = HW2.CellData(5,4)\u001b[39m\n",
       "\u001b[36m  HW2.CellData{5,4}([0.0 0.0 … 0.0 0.0; 0.0 0.0 … 0.0 0.0; … ; 0.0 0.0 … 0.0 0.0; 0.0 0.0 … 0.0 0.0])\u001b[39m\n",
       "\u001b[36m  \u001b[39m\n",
       "\u001b[36m  julia> q = HW2.EdgeData(p)\u001b[39m\n",
       "\u001b[36m  HW2.EdgeData{5,4}([0.0 0.0 … 0.0 0.0; 0.0 0.0 … 0.0 0.0; … ; 0.0 0.0 … 0.0 0.0; 0.0 0.0 … 0.0 0.0], [0.0 0.0 … 0.0 0.0; 0.0 0.0 … 0.0 0.0; … ; 0.0 0.0 … 0.0 0.0; 0.0 0.0 … 0.0 0.0])\u001b[39m"
      ]
     },
     "execution_count": 18,
     "metadata": {},
     "output_type": "execute_result"
    }
   ],
   "source": [
    "?HW2.EdgeData"
   ]
  },
  {
   "cell_type": "markdown",
   "metadata": {},
   "source": [
    "So we can use existing cell-centered data to easily set up edge data with an appropriate size, if we'd like."
   ]
  },
  {
   "cell_type": "markdown",
   "metadata": {},
   "source": [
    "Let's do some basic operations on edge data on a small grid:"
   ]
  },
  {
   "cell_type": "code",
   "execution_count": 19,
   "metadata": {
    "scrolled": true
   },
   "outputs": [],
   "source": [
    "q = HW2.EdgeData(5,6)\n",
    "q.qx[1,2] = 1.0\n",
    "q.qx[2,2] = 1.0\n",
    "nothing # used to suppress printing"
   ]
  },
  {
   "cell_type": "markdown",
   "metadata": {},
   "source": [
    "To visualize this data in an array form, we transpose it, as we did for the plotting, but we also have to flip it vertically because the (1,1) entry of the array should be shown to appear in the lower left hand corner. Here, we can visualize the entries in the x component that we have set to 1:"
   ]
  },
  {
   "cell_type": "code",
   "execution_count": 20,
   "metadata": {},
   "outputs": [
    {
     "data": {
      "text/plain": [
       "8×6 Array{Float64,2}:\n",
       " 0.0  0.0  0.0  0.0  0.0  0.0\n",
       " 0.0  0.0  0.0  0.0  0.0  0.0\n",
       " 0.0  0.0  0.0  0.0  0.0  0.0\n",
       " 0.0  0.0  0.0  0.0  0.0  0.0\n",
       " 0.0  0.0  0.0  0.0  0.0  0.0\n",
       " 0.0  0.0  0.0  0.0  0.0  0.0\n",
       " 1.0  1.0  0.0  0.0  0.0  0.0\n",
       " 0.0  0.0  0.0  0.0  0.0  0.0"
      ]
     },
     "execution_count": 20,
     "metadata": {},
     "output_type": "execute_result"
    }
   ],
   "source": [
    "reverse(transpose(q.qx),dims=1)"
   ]
  },
  {
   "cell_type": "markdown",
   "metadata": {},
   "source": [
    "Notice that the size of the x component is 6 columns x 8 rows for a grid of size 5 x 6 interior cells. The two additional rows are the ghosts at the top and bottom; the additional column is due to the fact that the x component lives on vertical cell edges."
   ]
  },
  {
   "cell_type": "markdown",
   "metadata": {},
   "source": [
    "Meanwhile, the y component is empty. Try to make sense of its size:"
   ]
  },
  {
   "cell_type": "code",
   "execution_count": 21,
   "metadata": {},
   "outputs": [
    {
     "data": {
      "text/plain": [
       "7×7 Array{Float64,2}:\n",
       " 0.0  0.0  0.0  0.0  0.0  0.0  0.0\n",
       " 0.0  0.0  0.0  0.0  0.0  0.0  0.0\n",
       " 0.0  0.0  0.0  0.0  0.0  0.0  0.0\n",
       " 0.0  0.0  0.0  0.0  0.0  0.0  0.0\n",
       " 0.0  0.0  0.0  0.0  0.0  0.0  0.0\n",
       " 0.0  0.0  0.0  0.0  0.0  0.0  0.0\n",
       " 0.0  0.0  0.0  0.0  0.0  0.0  0.0"
      ]
     },
     "execution_count": 21,
     "metadata": {},
     "output_type": "execute_result"
    }
   ],
   "source": [
    "reverse(transpose(q.qy),dims=1)"
   ]
  },
  {
   "cell_type": "markdown",
   "metadata": {},
   "source": [
    "This norm can be used on the edge data:"
   ]
  },
  {
   "cell_type": "code",
   "execution_count": 22,
   "metadata": {},
   "outputs": [
    {
     "data": {
      "text/plain": [
       "0.22360679774997896"
      ]
     },
     "execution_count": 22,
     "metadata": {},
     "output_type": "execute_result"
    }
   ],
   "source": [
    "norm(q)"
   ]
  },
  {
   "cell_type": "markdown",
   "metadata": {},
   "source": [
    "Now let's try taking the divergence of some basic edge data:"
   ]
  },
  {
   "cell_type": "code",
   "execution_count": 23,
   "metadata": {},
   "outputs": [
    {
     "data": {
      "text/plain": [
       "HW2.CellData{50,25}([0.0 0.0 … 0.0 0.0; 0.0 0.0 … 0.0 0.0; … ; 0.0 0.0 … 0.0 0.0; 0.0 0.0 … 0.0 0.0])"
      ]
     },
     "execution_count": 23,
     "metadata": {},
     "output_type": "execute_result"
    }
   ],
   "source": [
    "nx = 50; ny = 25\n",
    "q = HW2.EdgeData(nx,ny)\n",
    "# choose a random x component in interior of grid and set it to 1\n",
    "i, j = rand(2:nx), rand(2:ny+1)\n",
    "q.qx[i,j] = 1\n",
    "\n",
    "p = HW2.divergence(q)"
   ]
  },
  {
   "cell_type": "markdown",
   "metadata": {},
   "source": [
    "If we plot this, we see a 1 and -1 in the resulting cell data:"
   ]
  },
  {
   "cell_type": "code",
   "execution_count": 24,
   "metadata": {},
   "outputs": [
    {
     "data": {
      "image/svg+xml": [
       "<?xml version=\"1.0\" encoding=\"utf-8\"?>\n",
       "<svg xmlns=\"http://www.w3.org/2000/svg\" xmlns:xlink=\"http://www.w3.org/1999/xlink\" width=\"600\" height=\"400\" viewBox=\"0 0 2400 1600\">\n",
       "<defs>\n",
       "  <clipPath id=\"clip2300\">\n",
       "    <rect x=\"0\" y=\"0\" width=\"2400\" height=\"1600\"/>\n",
       "  </clipPath>\n",
       "</defs>\n",
       "<polygon clip-path=\"url(#clip2300)\" points=\"\n",
       "0,1600 2400,1600 2400,0 0,0 \n",
       "  \" fill=\"#ffffff\" fill-rule=\"evenodd\" fill-opacity=\"1\"/>\n",
       "<defs>\n",
       "  <clipPath id=\"clip2301\">\n",
       "    <rect x=\"480\" y=\"0\" width=\"1681\" height=\"1600\"/>\n",
       "  </clipPath>\n",
       "</defs>\n",
       "<polygon clip-path=\"url(#clip2300)\" points=\"\n",
       "148.013,1248.81 2081.26,1248.81 2081.26,301.911 148.013,301.911 \n",
       "  \" fill=\"#ffffff\" fill-rule=\"evenodd\" fill-opacity=\"1\"/>\n",
       "<defs>\n",
       "  <clipPath id=\"clip2302\">\n",
       "    <rect x=\"148\" y=\"301\" width=\"1934\" height=\"948\"/>\n",
       "  </clipPath>\n",
       "</defs>\n",
       "<polyline clip-path=\"url(#clip2302)\" style=\"stroke:#000000; stroke-width:2; stroke-opacity:0.1; fill:none\" points=\"\n",
       "  463.645,1248.81 463.645,301.911 \n",
       "  \"/>\n",
       "<polyline clip-path=\"url(#clip2302)\" style=\"stroke:#000000; stroke-width:2; stroke-opacity:0.1; fill:none\" points=\"\n",
       "  858.185,1248.81 858.185,301.911 \n",
       "  \"/>\n",
       "<polyline clip-path=\"url(#clip2302)\" style=\"stroke:#000000; stroke-width:2; stroke-opacity:0.1; fill:none\" points=\"\n",
       "  1252.73,1248.81 1252.73,301.911 \n",
       "  \"/>\n",
       "<polyline clip-path=\"url(#clip2302)\" style=\"stroke:#000000; stroke-width:2; stroke-opacity:0.1; fill:none\" points=\"\n",
       "  1647.27,1248.81 1647.27,301.911 \n",
       "  \"/>\n",
       "<polyline clip-path=\"url(#clip2302)\" style=\"stroke:#000000; stroke-width:2; stroke-opacity:0.1; fill:none\" points=\"\n",
       "  2041.81,1248.81 2041.81,301.911 \n",
       "  \"/>\n",
       "<polyline clip-path=\"url(#clip2302)\" style=\"stroke:#000000; stroke-width:2; stroke-opacity:0.1; fill:none\" points=\"\n",
       "  148.013,1130.45 2081.26,1130.45 \n",
       "  \"/>\n",
       "<polyline clip-path=\"url(#clip2302)\" style=\"stroke:#000000; stroke-width:2; stroke-opacity:0.1; fill:none\" points=\"\n",
       "  148.013,933.175 2081.26,933.175 \n",
       "  \"/>\n",
       "<polyline clip-path=\"url(#clip2302)\" style=\"stroke:#000000; stroke-width:2; stroke-opacity:0.1; fill:none\" points=\"\n",
       "  148.013,735.905 2081.26,735.905 \n",
       "  \"/>\n",
       "<polyline clip-path=\"url(#clip2302)\" style=\"stroke:#000000; stroke-width:2; stroke-opacity:0.1; fill:none\" points=\"\n",
       "  148.013,538.635 2081.26,538.635 \n",
       "  \"/>\n",
       "<polyline clip-path=\"url(#clip2302)\" style=\"stroke:#000000; stroke-width:2; stroke-opacity:0.1; fill:none\" points=\"\n",
       "  148.013,341.365 2081.26,341.365 \n",
       "  \"/>\n",
       "<polyline clip-path=\"url(#clip2300)\" style=\"stroke:#000000; stroke-width:4; stroke-opacity:1; fill:none\" points=\"\n",
       "  148.013,1248.81 2081.26,1248.81 \n",
       "  \"/>\n",
       "<polyline clip-path=\"url(#clip2300)\" style=\"stroke:#000000; stroke-width:4; stroke-opacity:1; fill:none\" points=\"\n",
       "  148.013,1248.81 148.013,301.911 \n",
       "  \"/>\n",
       "<polyline clip-path=\"url(#clip2300)\" style=\"stroke:#000000; stroke-width:4; stroke-opacity:1; fill:none\" points=\"\n",
       "  463.645,1248.81 463.645,1234.6 \n",
       "  \"/>\n",
       "<polyline clip-path=\"url(#clip2300)\" style=\"stroke:#000000; stroke-width:4; stroke-opacity:1; fill:none\" points=\"\n",
       "  858.185,1248.81 858.185,1234.6 \n",
       "  \"/>\n",
       "<polyline clip-path=\"url(#clip2300)\" style=\"stroke:#000000; stroke-width:4; stroke-opacity:1; fill:none\" points=\"\n",
       "  1252.73,1248.81 1252.73,1234.6 \n",
       "  \"/>\n",
       "<polyline clip-path=\"url(#clip2300)\" style=\"stroke:#000000; stroke-width:4; stroke-opacity:1; fill:none\" points=\"\n",
       "  1647.27,1248.81 1647.27,1234.6 \n",
       "  \"/>\n",
       "<polyline clip-path=\"url(#clip2300)\" style=\"stroke:#000000; stroke-width:4; stroke-opacity:1; fill:none\" points=\"\n",
       "  2041.81,1248.81 2041.81,1234.6 \n",
       "  \"/>\n",
       "<polyline clip-path=\"url(#clip2300)\" style=\"stroke:#000000; stroke-width:4; stroke-opacity:1; fill:none\" points=\"\n",
       "  148.013,1130.45 177.012,1130.45 \n",
       "  \"/>\n",
       "<polyline clip-path=\"url(#clip2300)\" style=\"stroke:#000000; stroke-width:4; stroke-opacity:1; fill:none\" points=\"\n",
       "  148.013,933.175 177.012,933.175 \n",
       "  \"/>\n",
       "<polyline clip-path=\"url(#clip2300)\" style=\"stroke:#000000; stroke-width:4; stroke-opacity:1; fill:none\" points=\"\n",
       "  148.013,735.905 177.012,735.905 \n",
       "  \"/>\n",
       "<polyline clip-path=\"url(#clip2300)\" style=\"stroke:#000000; stroke-width:4; stroke-opacity:1; fill:none\" points=\"\n",
       "  148.013,538.635 177.012,538.635 \n",
       "  \"/>\n",
       "<polyline clip-path=\"url(#clip2300)\" style=\"stroke:#000000; stroke-width:4; stroke-opacity:1; fill:none\" points=\"\n",
       "  148.013,341.365 177.012,341.365 \n",
       "  \"/>\n",
       "<g clip-path=\"url(#clip2300)\">\n",
       "<text style=\"fill:#000000; fill-opacity:1; font-family:Arial,Helvetica Neue,Helvetica,sans-serif; font-size:48px; text-anchor:middle;\" transform=\"rotate(0, 463.645, 1302.81)\" x=\"463.645\" y=\"1302.81\">10</text>\n",
       "</g>\n",
       "<g clip-path=\"url(#clip2300)\">\n",
       "<text style=\"fill:#000000; fill-opacity:1; font-family:Arial,Helvetica Neue,Helvetica,sans-serif; font-size:48px; text-anchor:middle;\" transform=\"rotate(0, 858.185, 1302.81)\" x=\"858.185\" y=\"1302.81\">20</text>\n",
       "</g>\n",
       "<g clip-path=\"url(#clip2300)\">\n",
       "<text style=\"fill:#000000; fill-opacity:1; font-family:Arial,Helvetica Neue,Helvetica,sans-serif; font-size:48px; text-anchor:middle;\" transform=\"rotate(0, 1252.73, 1302.81)\" x=\"1252.73\" y=\"1302.81\">30</text>\n",
       "</g>\n",
       "<g clip-path=\"url(#clip2300)\">\n",
       "<text style=\"fill:#000000; fill-opacity:1; font-family:Arial,Helvetica Neue,Helvetica,sans-serif; font-size:48px; text-anchor:middle;\" transform=\"rotate(0, 1647.27, 1302.81)\" x=\"1647.27\" y=\"1302.81\">40</text>\n",
       "</g>\n",
       "<g clip-path=\"url(#clip2300)\">\n",
       "<text style=\"fill:#000000; fill-opacity:1; font-family:Arial,Helvetica Neue,Helvetica,sans-serif; font-size:48px; text-anchor:middle;\" transform=\"rotate(0, 2041.81, 1302.81)\" x=\"2041.81\" y=\"1302.81\">50</text>\n",
       "</g>\n",
       "<g clip-path=\"url(#clip2300)\">\n",
       "<text style=\"fill:#000000; fill-opacity:1; font-family:Arial,Helvetica Neue,Helvetica,sans-serif; font-size:48px; text-anchor:end;\" transform=\"rotate(0, 124.013, 1147.95)\" x=\"124.013\" y=\"1147.95\">5</text>\n",
       "</g>\n",
       "<g clip-path=\"url(#clip2300)\">\n",
       "<text style=\"fill:#000000; fill-opacity:1; font-family:Arial,Helvetica Neue,Helvetica,sans-serif; font-size:48px; text-anchor:end;\" transform=\"rotate(0, 124.013, 950.675)\" x=\"124.013\" y=\"950.675\">10</text>\n",
       "</g>\n",
       "<g clip-path=\"url(#clip2300)\">\n",
       "<text style=\"fill:#000000; fill-opacity:1; font-family:Arial,Helvetica Neue,Helvetica,sans-serif; font-size:48px; text-anchor:end;\" transform=\"rotate(0, 124.013, 753.405)\" x=\"124.013\" y=\"753.405\">15</text>\n",
       "</g>\n",
       "<g clip-path=\"url(#clip2300)\">\n",
       "<text style=\"fill:#000000; fill-opacity:1; font-family:Arial,Helvetica Neue,Helvetica,sans-serif; font-size:48px; text-anchor:end;\" transform=\"rotate(0, 124.013, 556.135)\" x=\"124.013\" y=\"556.135\">20</text>\n",
       "</g>\n",
       "<g clip-path=\"url(#clip2300)\">\n",
       "<text style=\"fill:#000000; fill-opacity:1; font-family:Arial,Helvetica Neue,Helvetica,sans-serif; font-size:48px; text-anchor:end;\" transform=\"rotate(0, 124.013, 358.865)\" x=\"124.013\" y=\"358.865\">25</text>\n",
       "</g>\n",
       "<polyline clip-path=\"url(#clip2302)\" style=\"stroke:#0d0829; stroke-width:4; stroke-opacity:1; fill:none\" points=\"\n",
       "  1371.09,1057.17 1376.72,1051.54 1371.09,1045.9 1368.27,1051.54 1371.09,1057.17 \n",
       "  \"/>\n",
       "<polyline clip-path=\"url(#clip2302)\" style=\"stroke:#270b52; stroke-width:4; stroke-opacity:1; fill:none\" points=\"\n",
       "  1371.09,1062.81 1382.36,1051.54 1371.09,1040.26 1365.45,1051.54 1371.09,1062.81 \n",
       "  \"/>\n",
       "<polyline clip-path=\"url(#clip2302)\" style=\"stroke:#470b69; stroke-width:4; stroke-opacity:1; fill:none\" points=\"\n",
       "  1371.09,1068.45 1388,1051.54 1371.09,1034.63 1362.63,1051.54 1371.09,1068.45 \n",
       "  \"/>\n",
       "<polyline clip-path=\"url(#clip2302)\" style=\"stroke:#63146e; stroke-width:4; stroke-opacity:1; fill:none\" points=\"\n",
       "  1371.09,1074.08 1393.63,1051.54 1371.09,1028.99 1359.81,1051.54 1371.09,1074.08 \n",
       "  \"/>\n",
       "<polyline clip-path=\"url(#clip2302)\" style=\"stroke:#821f6b; stroke-width:4; stroke-opacity:1; fill:none\" points=\"\n",
       "  1371.09,1079.72 1399.27,1051.54 1371.09,1023.36 1357,1051.54 1371.09,1079.72 \n",
       "  \"/>\n",
       "<polyline clip-path=\"url(#clip2302)\" style=\"stroke:#9e2a62; stroke-width:4; stroke-opacity:1; fill:none\" points=\"\n",
       "  1371.09,1085.36 1404.91,1051.54 1371.09,1017.72 1354.18,1051.54 1371.09,1085.36 \n",
       "  \"/>\n",
       "<polyline clip-path=\"url(#clip2302)\" style=\"stroke:#ba3655; stroke-width:4; stroke-opacity:1; fill:none\" points=\"\n",
       "  1371.09,1090.99 1410.54,1051.54 1371.09,1012.08 1351.36,1051.54 1371.09,1090.99 \n",
       "  \"/>\n",
       "<polyline clip-path=\"url(#clip2302)\" style=\"stroke:#d24742; stroke-width:4; stroke-opacity:1; fill:none\" points=\"\n",
       "  1348.54,1051.54 1331.63,1085.36 1297.82,1051.54 1331.63,1017.72 1348.54,1051.54 \n",
       "  \"/>\n",
       "<polyline clip-path=\"url(#clip2302)\" style=\"stroke:#e65e2d; stroke-width:4; stroke-opacity:1; fill:none\" points=\"\n",
       "  1345.72,1051.54 1331.63,1079.72 1303.45,1051.54 1331.63,1023.36 1345.72,1051.54 \n",
       "  \"/>\n",
       "<polyline clip-path=\"url(#clip2302)\" style=\"stroke:#f57d15; stroke-width:4; stroke-opacity:1; fill:none\" points=\"\n",
       "  1342.91,1051.54 1331.63,1074.08 1309.09,1051.54 1331.63,1028.99 1342.91,1051.54 \n",
       "  \"/>\n",
       "<polyline clip-path=\"url(#clip2302)\" style=\"stroke:#fb9c07; stroke-width:4; stroke-opacity:1; fill:none\" points=\"\n",
       "  1340.09,1051.54 1331.63,1068.45 1314.72,1051.54 1331.63,1034.63 1340.09,1051.54 \n",
       "  \"/>\n",
       "<polyline clip-path=\"url(#clip2302)\" style=\"stroke:#fabf26; stroke-width:4; stroke-opacity:1; fill:none\" points=\"\n",
       "  1337.27,1051.54 1331.63,1062.81 1320.36,1051.54 1331.63,1040.26 1337.27,1051.54 \n",
       "  \"/>\n",
       "<polyline clip-path=\"url(#clip2302)\" style=\"stroke:#f3e258; stroke-width:4; stroke-opacity:1; fill:none\" points=\"\n",
       "  1334.45,1051.54 1331.63,1057.17 1326,1051.54 1331.63,1045.9 1334.45,1051.54 \n",
       "  \"/>\n",
       "<defs>\n",
       "  <clipPath id=\"clip2303\">\n",
       "    <rect x=\"2129\" y=\"301\" width=\"73\" height=\"948\"/>\n",
       "  </clipPath>\n",
       "</defs>\n",
       "<g clip-path=\"url(#clip2303)\">\n",
       "<image width=\"72\" height=\"947\" xlink:href=\"data:image/png;base64,\n",
       "iVBORw0KGgoAAAANSUhEUgAAAEgAAAOzCAYAAAAbUEAAAAAHgUlEQVR4nO3cQWoTUBSG0cS8QRyY\n",
       "iYhr6L67B1fRFRQsjREqFASLGZRgXEH7Dd8bnLOCy8c/vtvLv9vrhjd9mH3A6gQKAgWBgkBBoCBQ\n",
       "ECgIFAQKAgWBgkBBoCBQECgIFAQKAgWBgkBBoCBQECgIFAQKAgWBgkBBoCBQECgIFAQKAgWBgkBB\n",
       "oCBQECgIFAQKAgWBgkBBoCBQECgIFAQKAgWBgkBBoCBQECgIFAQKAgWBgkBBoCBQGOef32bfsDQL\n",
       "CgIFgYJAQaAgUBAoCBQECgIFgYJAQaAgUBAoCBQECgIFgYJAQaAgUBAoCBQECgIFgYJAQaAgUBAo\n",
       "CBQECgIFgYJAQaAgUBAoCBQECgIFgYJAQaAgUBAoCBQECgIFgYJAQaAgUBAoCBQECgIFgYJAQaAg\n",
       "UBj773ezb1iaBQWBgkBBoCBQECgIFAQKAgWBgkBBoCBQECgIFAQKAgWBgkBBoCBQECgIFAQKAgWB\n",
       "gkBBoCBQECgIFAQKAgWBgkBBoCBQECgIFAQKAgWBgkBBoCBQECgIFAQKAgWBgkBBoCBQECgIFAQK\n",
       "AgWBgkBBoCBQECiM7f3D7BuWZkFBoCBQECgIFAQKAgWBgkBBoCBQECgIFAQKAgWBgkBBoCBQECgI\n",
       "FAQKAgWBgkBBoCBQECgIFAQKAgWBgkBBoCBQECgIFAQKAgWBgkBBoCBQECgIFAQKAgWBgkBBoCBQ\n",
       "ECgIFAQKAgWBgkBBoCBQECgIFAQK4/XxMPuGpVlQECgIFAQKAgWBgkBBoCBQECgIFAQKAgWBgkBB\n",
       "oCBQECgIFAQKAgWBgkBBoCBQECgIFAQKAgWBgkBBoCBQECgIFAQKAgWBgkBBoCBQECgIFAQKAgWB\n",
       "gkBBoCBQECgIFAQKAgWBgkBBoCBQECgIFAQKAgWBwvhz/Dr7hqVZUBAoCBQECgIFgYJAQaAgUBAo\n",
       "CBQECgIFgYJAQaAgUBAoCBQECgIFgYJAQaAgUBAoCBQECgIFgYJAQaAgUBAoCBQECgIFgYJAQaAg\n",
       "UBAoCBQECgIFgYJAQaAgUBAoCBQECgIFgYJAQaAgUBAoCBQECgIFgcJ4/vVl9g1Ls6AgUBAoCBQE\n",
       "CgIFgYJAQaAgUBAoCBQECgIFgYJAQaAgUBAoCBQECgIFgYJAQaAgUBAoCBQECgIFgYJAQaAgUBAo\n",
       "CBQECgIFgYJAQaAgUBAoCBQECgIFgYJAQaAgUBAoCBQECgIFgYJAQaAgUBAoCBQECgKF8fT78+wb\n",
       "lmZBQaAgUBAoCBQECgIFgYJAQaAgUBAoCBQECgIFgYJAQaAgUBAoCBQECgIFgYJAQaAgUBAoCBQE\n",
       "CgIFgYJAQaAgUBAoCBQECgIFgYJAQaAgUBAoCBQECgIFgYJAQaAgUBAoCBQECgIFgYJAQaAgUBAo\n",
       "CBQECgKF8ePlMPuGpVlQECgIFAQKAgWBgkBBoCBQECgIFAQKAgWBgkBBoCBQECgIFAQKAgWBgkBB\n",
       "oCBQECgIFAQKAgWBgkBBoCBQECgIFAQKAgWBgkBBoCBQECgIFAQKAgWBgkBBoCBQECgIFAQKAgWB\n",
       "gkBBoCBQECgIFAQKAgWBwjj9/Tj7hqVZUBAoCBQECgIFgYJAQaAgUBAoCBQECgIFgYJAQaAgUBAo\n",
       "CBQECgIFgYJAQaAgUBAoCBQECgIFgYJAQaAgUBAoCBQECgIFgYJAQaAgUBAoCBQECgIFgYJAQaAg\n",
       "UBAoCBQECgIFgYJAQaAgUBAoCBQECgIFgcI4nnezb1iaBQWBgkBBoCBQECgIFAQKAgWBgkBBoCBQ\n",
       "ECgIFAQKAgWBgkBBoCBQECgIFAQKAgWBgkBBoCBQECgIFAQKAgWBgkBBoCBQECgIFAQKAgWBgkBB\n",
       "oCBQECgIFAQKAgWBgkBBoCBQECgIFAQKAgWBgkBBoCBQECiM0/ky+4alWVAQKAgUBAoCBYGCQEGg\n",
       "IFAQKAgUBAoCBYGCQEGgIFAQKAgUBAoCBYGCQEGgIFAQKAgUBAoCBYGCQEGgIFAQKAgUBAoCBYGC\n",
       "QEGgIFAQKAgUBAoCBYGCQEGgIFAQKAgUBAoCBYGCQEGgIFAQKAgUBAoCBYHCeNg8zb5haRYUBAoC\n",
       "BYGCQEGgIFAQKAgUBAoCBYGCQEGgIFAQKAgUBAoCBYGCQEGgIFAQKAgUBAoCBYGCQEGgIFAQKAgU\n",
       "BAoCBYGCQEGgIFAQKAgUBAoCBYGCQEGgIFAQKAgUBAoCBYGCQEGgIFAQKAgUBAoCBYGCQEGgsP20\n",
       "v7nOPmJlFhQECgIFgYJAQaAgUBAoCBQECgIFgYJAQaAgUBAoCBQECgIFgYJAQaAgUBAoCBQECgIF\n",
       "gYJAQaAgUBAoCBQECgIFgYJAQaAgUBAoCBQECgIFgYJAQaAgUBAoCBQECgIFgYJAQaAgUBAoCBQE\n",
       "CgIFgYJAQaCw3Wx23uO8w4KCQEGgIFAQKAgUBAoCBYGCQEGgIFAQKAgUBAoCBYGCQEGgIFAQKAgU\n",
       "BAoCBYGCQEGgIFAQKAgUBAoCBYGCQEGgIFAQKAgUBAoCBYGCQEGgIFAQKAgUBAoCBYGCQEGgIFAQ\n",
       "KAgUBAoCBYGCQEGgIFAQKAgU/gMuCiU+8xeSTQAAAABJRU5ErkJggg==\n",
       "\" transform=\"translate(2129, 302)\"/>\n",
       "</g>\n",
       "<g clip-path=\"url(#clip2300)\">\n",
       "<text style=\"fill:#000000; fill-opacity:1; font-family:Arial,Helvetica Neue,Helvetica,sans-serif; font-size:48px; text-anchor:start;\" transform=\"rotate(0, 2237.26, 1262.46)\" x=\"2237.26\" y=\"1262.46\">-</text>\n",
       "</g>\n",
       "<g clip-path=\"url(#clip2300)\">\n",
       "<text style=\"fill:#000000; fill-opacity:1; font-family:Arial,Helvetica Neue,Helvetica,sans-serif; font-size:48px; text-anchor:start;\" transform=\"rotate(0, 2265.37, 1262.46)\" x=\"2265.37\" y=\"1262.46\">1.00</text>\n",
       "</g>\n",
       "<g clip-path=\"url(#clip2300)\">\n",
       "<text style=\"fill:#000000; fill-opacity:1; font-family:Arial,Helvetica Neue,Helvetica,sans-serif; font-size:48px; text-anchor:start;\" transform=\"rotate(0, 2237.26, 1144.1)\" x=\"2237.26\" y=\"1144.1\">-</text>\n",
       "</g>\n",
       "<g clip-path=\"url(#clip2300)\">\n",
       "<text style=\"fill:#000000; fill-opacity:1; font-family:Arial,Helvetica Neue,Helvetica,sans-serif; font-size:48px; text-anchor:start;\" transform=\"rotate(0, 2265.37, 1144.1)\" x=\"2265.37\" y=\"1144.1\">0.75</text>\n",
       "</g>\n",
       "<g clip-path=\"url(#clip2300)\">\n",
       "<text style=\"fill:#000000; fill-opacity:1; font-family:Arial,Helvetica Neue,Helvetica,sans-serif; font-size:48px; text-anchor:start;\" transform=\"rotate(0, 2237.26, 1025.73)\" x=\"2237.26\" y=\"1025.73\">-</text>\n",
       "</g>\n",
       "<g clip-path=\"url(#clip2300)\">\n",
       "<text style=\"fill:#000000; fill-opacity:1; font-family:Arial,Helvetica Neue,Helvetica,sans-serif; font-size:48px; text-anchor:start;\" transform=\"rotate(0, 2265.37, 1025.73)\" x=\"2265.37\" y=\"1025.73\">0.50</text>\n",
       "</g>\n",
       "<g clip-path=\"url(#clip2300)\">\n",
       "<text style=\"fill:#000000; fill-opacity:1; font-family:Arial,Helvetica Neue,Helvetica,sans-serif; font-size:48px; text-anchor:start;\" transform=\"rotate(0, 2237.26, 907.373)\" x=\"2237.26\" y=\"907.373\">-</text>\n",
       "</g>\n",
       "<g clip-path=\"url(#clip2300)\">\n",
       "<text style=\"fill:#000000; fill-opacity:1; font-family:Arial,Helvetica Neue,Helvetica,sans-serif; font-size:48px; text-anchor:start;\" transform=\"rotate(0, 2265.37, 907.373)\" x=\"2265.37\" y=\"907.373\">0.25</text>\n",
       "</g>\n",
       "<g clip-path=\"url(#clip2300)\">\n",
       "<text style=\"fill:#000000; fill-opacity:1; font-family:Arial,Helvetica Neue,Helvetica,sans-serif; font-size:48px; text-anchor:start;\" transform=\"rotate(0, 2237.26, 789.011)\" x=\"2237.26\" y=\"789.011\">0</text>\n",
       "</g>\n",
       "<g clip-path=\"url(#clip2300)\">\n",
       "<text style=\"fill:#000000; fill-opacity:1; font-family:Arial,Helvetica Neue,Helvetica,sans-serif; font-size:48px; text-anchor:start;\" transform=\"rotate(0, 2237.26, 670.649)\" x=\"2237.26\" y=\"670.649\">0.25</text>\n",
       "</g>\n",
       "<g clip-path=\"url(#clip2300)\">\n",
       "<text style=\"fill:#000000; fill-opacity:1; font-family:Arial,Helvetica Neue,Helvetica,sans-serif; font-size:48px; text-anchor:start;\" transform=\"rotate(0, 2237.26, 552.286)\" x=\"2237.26\" y=\"552.286\">0.50</text>\n",
       "</g>\n",
       "<g clip-path=\"url(#clip2300)\">\n",
       "<text style=\"fill:#000000; fill-opacity:1; font-family:Arial,Helvetica Neue,Helvetica,sans-serif; font-size:48px; text-anchor:start;\" transform=\"rotate(0, 2237.26, 433.924)\" x=\"2237.26\" y=\"433.924\">0.75</text>\n",
       "</g>\n",
       "<g clip-path=\"url(#clip2300)\">\n",
       "<text style=\"fill:#000000; fill-opacity:1; font-family:Arial,Helvetica Neue,Helvetica,sans-serif; font-size:48px; text-anchor:start;\" transform=\"rotate(0, 2237.26, 315.562)\" x=\"2237.26\" y=\"315.562\">1.00</text>\n",
       "</g>\n",
       "<polyline clip-path=\"url(#clip2300)\" style=\"stroke:#000000; stroke-width:4; stroke-opacity:1; fill:none\" points=\"\n",
       "  2201.26,1248.81 2201.26,1248.81 2225.26,1248.81 2201.26,1248.81 2201.26,1130.45 2225.26,1130.45 2201.26,1130.45 2201.26,1012.08 2225.26,1012.08 2201.26,1012.08 \n",
       "  2201.26,893.721 2225.26,893.721 2201.26,893.721 2201.26,775.359 2225.26,775.359 2201.26,775.359 2201.26,656.997 2225.26,656.997 2201.26,656.997 2201.26,538.635 \n",
       "  2225.26,538.635 2201.26,538.635 2201.26,420.273 2225.26,420.273 2201.26,420.273 2201.26,301.911 2225.26,301.911 2201.26,301.911 \n",
       "  \"/>\n",
       "<g clip-path=\"url(#clip2300)\">\n",
       "<text style=\"fill:#000000; fill-opacity:1; font-family:Arial,Helvetica Neue,Helvetica,sans-serif; font-size:66px; text-anchor:middle;\" transform=\"rotate(-90, 2378.86, 775.359)\" x=\"2378.86\" y=\"775.359\"></text>\n",
       "</g>\n",
       "</svg>\n"
      ]
     },
     "execution_count": 24,
     "metadata": {},
     "output_type": "execute_result"
    }
   ],
   "source": [
    "plot(transpose(p.data),seriestype=:contour,ratio=1,xlim=(2,nx+1),ylim=(2,ny+1))"
   ]
  },
  {
   "cell_type": "markdown",
   "metadata": {},
   "source": [
    "If we integrate this cell field, we always get 0."
   ]
  },
  {
   "cell_type": "code",
   "execution_count": 25,
   "metadata": {},
   "outputs": [
    {
     "data": {
      "text/plain": [
       "0.0"
      ]
     },
     "execution_count": 25,
     "metadata": {},
     "output_type": "execute_result"
    }
   ],
   "source": [
    "HW2.integrate(p)"
   ]
  },
  {
   "cell_type": "markdown",
   "metadata": {},
   "source": [
    "#### Node data"
   ]
  },
  {
   "cell_type": "code",
   "execution_count": 28,
   "metadata": {},
   "outputs": [
    {
     "data": {
      "text/latex": [
       "\\begin{verbatim}\n",
       "NodeData(nx,ny)\n",
       "\\end{verbatim}\n",
       "Set up node data equal to zero on a grid with \\texttt{(nx,ny)} interior cells. Note that node data has no ghosts.\n",
       "\n",
       "\\rule{\\textwidth}{1pt}\n",
       "\\begin{verbatim}\n",
       "NodeData(p::GridData)\n",
       "\\end{verbatim}\n",
       "Set up node data equal to zero on a grid of a size corresponding to the given grid data \\texttt{p}.\n",
       "\n",
       "Example:\n",
       "\n",
       "\\begin{verbatim}\n",
       "julia> p = HW2.CellData(5,4)\n",
       "HW2.CellData{5,4}([0.0 0.0 … 0.0 0.0; 0.0 0.0 … 0.0 0.0; … ; 0.0 0.0 … 0.0 0.0; 0.0 0.0 … 0.0 0.0])\n",
       "\n",
       "julia> w = HW2.NodeData(p)\n",
       "HW2.NodeData{5,4}([0.0 0.0 … 0.0 0.0; 0.0 0.0 … 0.0 0.0; … ; 0.0 0.0 … 0.0 0.0; 0.0 0.0 … 0.0 0.0])\n",
       "\\end{verbatim}\n"
      ],
      "text/markdown": [
       "```\n",
       "NodeData(nx,ny)\n",
       "```\n",
       "\n",
       "Set up node data equal to zero on a grid with `(nx,ny)` interior cells. Note that node data has no ghosts.\n",
       "\n",
       "---\n",
       "\n",
       "```\n",
       "NodeData(p::GridData)\n",
       "```\n",
       "\n",
       "Set up node data equal to zero on a grid of a size corresponding to the given grid data `p`.\n",
       "\n",
       "Example:\n",
       "\n",
       "```\n",
       "julia> p = HW2.CellData(5,4)\n",
       "HW2.CellData{5,4}([0.0 0.0 … 0.0 0.0; 0.0 0.0 … 0.0 0.0; … ; 0.0 0.0 … 0.0 0.0; 0.0 0.0 … 0.0 0.0])\n",
       "\n",
       "julia> w = HW2.NodeData(p)\n",
       "HW2.NodeData{5,4}([0.0 0.0 … 0.0 0.0; 0.0 0.0 … 0.0 0.0; … ; 0.0 0.0 … 0.0 0.0; 0.0 0.0 … 0.0 0.0])\n",
       "```\n"
      ],
      "text/plain": [
       "\u001b[36m  NodeData(nx,ny)\u001b[39m\n",
       "\n",
       "  Set up node data equal to zero on a grid with \u001b[36m(nx,ny)\u001b[39m interior cells. Note\n",
       "  that node data has no ghosts.\n",
       "\n",
       "  ────────────────────────────────────────────────────────────────────────────\n",
       "\n",
       "\u001b[36m  NodeData(p::GridData)\u001b[39m\n",
       "\n",
       "  Set up node data equal to zero on a grid of a size corresponding to the\n",
       "  given grid data \u001b[36mp\u001b[39m.\n",
       "\n",
       "  Example:\n",
       "\n",
       "\u001b[36m  julia> p = HW2.CellData(5,4)\u001b[39m\n",
       "\u001b[36m  HW2.CellData{5,4}([0.0 0.0 … 0.0 0.0; 0.0 0.0 … 0.0 0.0; … ; 0.0 0.0 … 0.0 0.0; 0.0 0.0 … 0.0 0.0])\u001b[39m\n",
       "\u001b[36m  \u001b[39m\n",
       "\u001b[36m  julia> w = HW2.NodeData(p)\u001b[39m\n",
       "\u001b[36m  HW2.NodeData{5,4}([0.0 0.0 … 0.0 0.0; 0.0 0.0 … 0.0 0.0; … ; 0.0 0.0 … 0.0 0.0; 0.0 0.0 … 0.0 0.0])\u001b[39m"
      ]
     },
     "execution_count": 28,
     "metadata": {},
     "output_type": "execute_result"
    }
   ],
   "source": [
    "?HW2.NodeData"
   ]
  },
  {
   "cell_type": "markdown",
   "metadata": {},
   "source": [
    "Here is an example of creating a blank set of node data"
   ]
  },
  {
   "cell_type": "code",
   "execution_count": 29,
   "metadata": {},
   "outputs": [
    {
     "data": {
      "text/plain": [
       "HW2.NodeData{5,4}([0.0 0.0 … 0.0 0.0; 0.0 0.0 … 0.0 0.0; … ; 0.0 0.0 … 0.0 0.0; 0.0 0.0 … 0.0 0.0])"
      ]
     },
     "execution_count": 29,
     "metadata": {},
     "output_type": "execute_result"
    }
   ],
   "source": [
    "p = HW2.CellData(5,4)\n",
    "w = HW2.NodeData(p)"
   ]
  },
  {
   "cell_type": "markdown",
   "metadata": {},
   "source": [
    "### Mapping index space to a physical space"
   ]
  },
  {
   "cell_type": "markdown",
   "metadata": {},
   "source": [
    "The relationships between cell-centered $i_c$ and node $i_n$ index spaces is\n",
    "\n",
    "$i_c = i_n + 1/2$\n",
    "\n",
    "$j_c = j_n + 1/2$\n",
    "\n",
    "Since the physical domain we set up will be divided into an integer number of cells, with nodes at the corners, let us establish the mapping from node index space to physical space. Then we can adjust this mapping for all other data types:\n",
    "\n",
    "$x(i_n) = x_0 + (i_n-1)\\Delta x$,\n",
    "\n",
    "$y(j_n) = y_0 + (j_n-1)\\Delta x$\n",
    "\n",
    "This places the node at the lower left corner at $(x_0, y_0)$. Then the mapping from cell-centered variables to physical space is easily obtained by substitution:\n",
    "\n",
    "$x(i_c) = x_0 + (i_c-3/2)\\Delta x$\n",
    "\n",
    "$y(i_c) = y_0 + (j_c-3/2)\\Delta x$\n",
    "\n",
    "An x-component of edge data is aligned with nodes in the x direction and cell centers in the y direction, so its indices relate to node indices:\n",
    "\n",
    "$i_{e,x} = i_n$\n",
    "\n",
    "$j_{e,x} = j_c = j_n + 1/2$.\n",
    "\n",
    "and vice versa for y-components of edge data. The mappings to physical space follow easily.\n"
   ]
  },
  {
   "cell_type": "markdown",
   "metadata": {},
   "source": [
    "#### Set up a domain"
   ]
  },
  {
   "cell_type": "code",
   "execution_count": 30,
   "metadata": {},
   "outputs": [
    {
     "data": {
      "text/plain": [
       "(0.0, 0.0)"
      ]
     },
     "execution_count": 30,
     "metadata": {},
     "output_type": "execute_result"
    }
   ],
   "source": [
    "L = 1  # length of each side\n",
    "x0, y0 = 0.0, 0.0  # coordinates of lower left hand corner of domain"
   ]
  },
  {
   "cell_type": "markdown",
   "metadata": {},
   "source": [
    "The rest of your work would follow..."
   ]
  },
  {
   "cell_type": "code",
   "execution_count": null,
   "metadata": {},
   "outputs": [],
   "source": []
  }
 ],
 "metadata": {
  "kernelspec": {
   "display_name": "Julia 1.1.0",
   "language": "julia",
   "name": "julia-1.1"
  },
  "language_info": {
   "file_extension": ".jl",
   "mimetype": "application/julia",
   "name": "julia",
   "version": "1.1.0"
  }
 },
 "nbformat": 4,
 "nbformat_minor": 2
}
